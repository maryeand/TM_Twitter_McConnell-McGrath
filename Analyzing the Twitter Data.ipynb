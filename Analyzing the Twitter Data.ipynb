{
 "cells": [
  {
   "cell_type": "markdown",
   "metadata": {},
   "source": [
    "Analyzing the Twitter Data"
   ]
  },
  {
   "cell_type": "code",
   "execution_count": 1,
   "metadata": {},
   "outputs": [],
   "source": [
    "import nltk\n",
    "import numpy as np\n",
    "\n",
    "from string import punctuation\n",
    "from collections import Counter\n",
    "\n",
    "from pprint import pprint # get some prettier printing of objects\n",
    "\n",
    "from nltk.corpus import stopwords\n",
    "\n",
    "sw = stopwords.words('english')\n",
    "sws = stopwords.words('spanish')"
   ]
  },
  {
   "cell_type": "code",
   "execution_count": 2,
   "metadata": {},
   "outputs": [],
   "source": [
    "def get_patterns(text)  :    \n",
    "    text_clean = [w for w in text.lower().split()]\n",
    "    text_clean = [w for w in text_clean if w not in sw]\n",
    "    text_clean = [w for w in text_clean if w.isalpha() or '#' in w]\n",
    "    text_clean = [w for w in text_clean if w not in sws]\n",
    "    \n",
    "           \n",
    "    total_tokens = len(text_clean)\n",
    "    unique_tokens = len(set(text_clean))\n",
    "    \n",
    "    text_clean_len = [len(w) for w in text_clean]\n",
    "    avg_token_len = np.mean(text_clean_len)\n",
    "    \n",
    "    lex_diversity =len(set(text_clean))/len(text_clean)\n",
    "    \n",
    "    top_10 = Counter(text_clean).most_common(10)\n",
    "    \n",
    "     \n",
    "    # Now we'll fill out the dictionary. \n",
    "    results = {'tokens':total_tokens,\n",
    "               'unique_tokens':unique_tokens, \n",
    "               'avg_token_length':avg_token_len,\n",
    "               'lexical_diversity':lex_diversity,\n",
    "               'top_10':top_10}\n",
    "\n",
    "    return(results)\n"
   ]
  },
  {
   "cell_type": "code",
   "execution_count": 4,
   "metadata": {},
   "outputs": [
    {
     "data": {
      "text/plain": [
       "{'tokens': 9846150,\n",
       " 'unique_tokens': 1555600,\n",
       " 'avg_token_length': 6.334185443041188,\n",
       " 'lexical_diversity': 0.157990686715112,\n",
       " 'top_10': [('usa', 125910),\n",
       "  ('love', 74764),\n",
       "  ('united', 47469),\n",
       "  ('states', 42436),\n",
       "  ('new', 39538),\n",
       "  ('trump', 39247),\n",
       "  ('god', 31702),\n",
       "  ('proud', 31049),\n",
       "  ('#maga', 30869),\n",
       "  ('life', 29858)]}"
      ]
     },
     "execution_count": 4,
     "metadata": {},
     "output_type": "execute_result"
    }
   ],
   "source": [
    "mitch = open(\"senatemajldr_followers.txt\",'r',encoding='utf-8').read()\n",
    "mitch_results = get_patterns(mitch)\n",
    "mitch_results"
   ]
  },
  {
   "cell_type": "code",
   "execution_count": 6,
   "metadata": {},
   "outputs": [
    {
     "data": {
      "text/plain": [
       "{'tokens': 4133492,\n",
       " 'unique_tokens': 635767,\n",
       " 'avg_token_length': 6.494152401891669,\n",
       " 'lexical_diversity': 0.15380869250502965,\n",
       " 'top_10': [('usa', 60759),\n",
       "  ('new', 24560),\n",
       "  ('ca', 23814),\n",
       "  ('love', 21909),\n",
       "  ('#resist', 18520),\n",
       "  ('proud', 16579),\n",
       "  ('united', 16120),\n",
       "  ('states', 14830),\n",
       "  ('ny', 14179),\n",
       "  ('mom', 11636)]}"
      ]
     },
     "execution_count": 6,
     "metadata": {},
     "output_type": "execute_result"
    }
   ],
   "source": [
    "amy = open(\"AmyMcGrathKY_followers.txt\",'r',encoding='utf-8').read()\n",
    "amy_results = get_patterns(amy)\n",
    "amy_results"
   ]
  },
  {
   "cell_type": "markdown",
   "metadata": {},
   "source": [
    "* top 1,000 groups for group A that aren't in group B\n",
    "* ratio of word/token usage with some minimum number of usages (like 5)\n",
    "* naive bayes"
   ]
  },
  {
   "cell_type": "raw",
   "metadata": {},
   "source": []
  }
 ],
 "metadata": {
  "kernelspec": {
   "display_name": "Python 3",
   "language": "python",
   "name": "python3"
  },
  "language_info": {
   "codemirror_mode": {
    "name": "ipython",
    "version": 3
   },
   "file_extension": ".py",
   "mimetype": "text/x-python",
   "name": "python",
   "nbconvert_exporter": "python",
   "pygments_lexer": "ipython3",
   "version": "3.8.3"
  }
 },
 "nbformat": 4,
 "nbformat_minor": 4
}
